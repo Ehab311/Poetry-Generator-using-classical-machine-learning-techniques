{
 "cells": [
  {
   "cell_type": "markdown",
   "id": "bfb2ad4a-a89b-4ac5-a39c-b3b3a10d43e6",
   "metadata": {},
   "source": [
    "# Import libraries"
   ]
  },
  {
   "cell_type": "code",
   "execution_count": 1,
   "id": "a910ef75-752a-4003-8c3d-b7a7acec4105",
   "metadata": {},
   "outputs": [
    {
     "name": "stderr",
     "output_type": "stream",
     "text": [
      "P:\\conda\\envs\\cv2\\Lib\\site-packages\\tqdm\\auto.py:21: TqdmWarning: IProgress not found. Please update jupyter and ipywidgets. See https://ipywidgets.readthedocs.io/en/stable/user_install.html\n",
      "  from .autonotebook import tqdm as notebook_tqdm\n"
     ]
    }
   ],
   "source": [
    "import pandas as pd\n",
    "import numpy as np\n",
    "import seaborn as sns  # for charts\n",
    "import matplotlib as mpl  # plotting\n",
    "import matplotlib.pyplot as plt\n",
    "import nltk\n",
    "from nltk.tokenize import word_tokenize\n",
    "from nltk.corpus import stopwords\n",
    "import os\n",
    "from collections import defaultdict\n",
    "import re\n",
    "import random\n",
    "from pgmpy.models import BayesianModel\n"
   ]
  },
  {
   "cell_type": "code",
   "execution_count": 2,
   "id": "062c2e47-7c17-419c-8c89-5bb793132fce",
   "metadata": {},
   "outputs": [],
   "source": [
    "concatenated_text = \"\"\n",
    "directory_path = r\"C:\\Users\\ehabe\\Desktop\\poets\"\n"
   ]
  },
  {
   "cell_type": "markdown",
   "id": "01a2cab1-e043-43d0-9f54-729144954481",
   "metadata": {},
   "source": [
    "# Loop through each file in the specified directory\n"
   ]
  },
  {
   "cell_type": "code",
   "execution_count": 3,
   "id": "f98cc08c-798d-4836-8aed-d490e6b28eec",
   "metadata": {},
   "outputs": [],
   "source": [
    "for filename in os.listdir(directory_path):\n",
    "    if filename.endswith(\".txt\"):\n",
    "        file_path = os.path.join(directory_path, filename)\n",
    "\n",
    "        with open(file_path, 'r', encoding='utf-8') as file:\n",
    "            poetry_text = file.read()\n",
    "\n",
    "        concatenated_text += poetry_text + \"\\n\"  # Add a newline between each poet's text\n",
    "\n"
   ]
  },
  {
   "cell_type": "markdown",
   "id": "ea67168f-f80a-4803-a4cf-7bab95e99fa2",
   "metadata": {},
   "source": [
    "# Using regular expression to find all and lower all words the text\n"
   ]
  },
  {
   "cell_type": "code",
   "execution_count": 4,
   "id": "7fc905d9-4670-4c4c-a83c-33b8500dd263",
   "metadata": {},
   "outputs": [
    {
     "name": "stdout",
     "output_type": "stream",
     "text": [
      "['looking', 'for', 'some', 'education', 'made', 'my', 'way', 'into', 'the', 'night', 'all', 'that', 'bullshit', 'conversation', 'baby', 'can', 't', 'you', 'read', 'the', 'signs', 'i', 'won', 't', 'bore', 'you', 'with', 'the', 'details', 'baby', 'i', 'don', 't', 'even', 'wanna', 'waste', 'your', 'time', 'let', 's', 'just', 'say', 'that', 'maybe', 'you', 'could', 'help', 'me', 'ease', 'my', 'mind', 'i', 'ain', 't', 'mr', 'right', 'but', 'if', 'you', 're', 'looking', 'for', 'fast', 'love', 'if', 'that', 's', 'love', 'in', 'your', 'eyes', 'it', 's', 'more', 'than', 'enough', 'had', 'some', 'bad', 'love', 'so', 'fast', 'love', 'is', 'all', 'that', 'i', 've', 'got', 'on', 'my', 'mind', 'ooh', 'ooh', 'ooh', 'ooh', 'looking', 'for', 'some', 'affirmation']\n"
     ]
    }
   ],
   "source": [
    "all_poetry_text = re.findall(r'\\w+', concatenated_text.lower())\n",
    "print(all_poetry_text[:100])\n"
   ]
  },
  {
   "cell_type": "markdown",
   "id": "9b037b3e-cfaa-4ff5-99b7-ca0cd5e95d14",
   "metadata": {},
   "source": [
    "# Markov Chain"
   ]
  },
  {
   "cell_type": "markdown",
   "id": "efa97d5f-4b1c-4dab-bcc6-17896a6a01a2",
   "metadata": {},
   "source": [
    "## Create a dictionary to store word transitions and their probabilities\n"
   ]
  },
  {
   "cell_type": "code",
   "execution_count": 5,
   "id": "eb95fd47-e03f-491e-969b-66d5535499ab",
   "metadata": {},
   "outputs": [],
   "source": [
    "markov_chain = defaultdict(lambda: defaultdict(int))"
   ]
  },
  {
   "cell_type": "markdown",
   "id": "d8aa31aa-b528-4fc0-aa38-00a16f77101d",
   "metadata": {},
   "source": [
    "## Count Words for the markov_chain dictionary\n"
   ]
  },
  {
   "cell_type": "code",
   "execution_count": 6,
   "id": "05194ca1-b857-40e3-9ad9-afb533aaad50",
   "metadata": {},
   "outputs": [],
   "source": [
    "    for i in range(len(all_poetry_text) - 1):\n",
    "        current_word = all_poetry_text[i]\n",
    "        next_word = all_poetry_text[i + 1]\n",
    "        markov_chain[current_word][next_word] += 1\n"
   ]
  },
  {
   "cell_type": "markdown",
   "id": "edfdbcae-9026-46fc-929d-fbc5bc1261b6",
   "metadata": {},
   "source": [
    "## Convert counts to probabilities\n"
   ]
  },
  {
   "cell_type": "code",
   "execution_count": 7,
   "id": "0aeaaeda-08e3-487e-9968-e5c7f6a83f65",
   "metadata": {},
   "outputs": [],
   "source": [
    "    for current_word, next_words in markov_chain.items():\n",
    "        total_occurrences = sum(next_words.values())\n",
    "        for next_word in next_words:\n",
    "            next_words[next_word] /= total_occurrences\n"
   ]
  },
  {
   "cell_type": "markdown",
   "id": "dd128d83-c113-4290-bf3f-14c28786e950",
   "metadata": {},
   "source": [
    "## User input for the first word and poem length\n"
   ]
  },
  {
   "cell_type": "code",
   "execution_count": 8,
   "id": "b4fcbaf6-1c84-493b-9a09-24b6e62fc96c",
   "metadata": {},
   "outputs": [
    {
     "name": "stdin",
     "output_type": "stream",
     "text": [
      "Enter the first word for the poem :  ali\n",
      "Enter the length for the poem :  50\n"
     ]
    }
   ],
   "source": [
    "user_input = input(\"Enter the first word for the poem : \")\n",
    "start_word = user_input\n",
    "user_input = input(\"Enter the length for the poem : \")\n",
    "poem_length = user_input"
   ]
  },
  {
   "cell_type": "markdown",
   "id": "fbe51ccf-2e60-42ae-9984-aa2de4609ff8",
   "metadata": {},
   "source": [
    "## Predict poems"
   ]
  },
  {
   "cell_type": "code",
   "execution_count": 9,
   "id": "55ff4276-2cb8-41e5-a874-8a82311436c1",
   "metadata": {},
   "outputs": [
    {
     "name": "stdout",
     "output_type": "stream",
     "text": [
      "['ali', 'you', 'doo', 'just', 'change', 'the', 'church', 'steps', 'till', 'it', 'strong', 'i', 'ain', 't', 'you', 'would', 'we', 'can', 'heal', 'the', 'trees', 'by', 'myself', 'better', 'come', 'after', 'setting', 'sun', 'he', 'll', 'never', 'taught', 'me', 'down', 'upon', 'the', 'fiends', 'i', 'let', 's', 'joy', 'the', 'air', 'it', 'was', 'never', 'living', 'as', 'if', 'this']\n"
     ]
    }
   ],
   "source": [
    "poem_length=50\n",
    "current_word= start_word\n",
    "poem = [current_word]\n",
    "    \n",
    "for _ in range(poem_length - 1):\n",
    "    current_word = poem[-1]\n",
    "        \n",
    "    if current_word in markov_chain:\n",
    "        next_words = markov_chain[current_word]\n",
    "            \n",
    "        next_word = random.choices(list(next_words.keys()), weights=list(next_words.values()))[0]\n",
    "            \n",
    "            # Append the next word to the poem\n",
    "        poem.append(next_word)\n",
    "    else:\n",
    "            # If the current word has no next words, end the poem\n",
    "        break\n",
    "\n",
    "\n",
    "# Example usage\n",
    "print(poem)\n"
   ]
  },
  {
   "cell_type": "markdown",
   "id": "0c17d9fa-cd18-462c-b8f7-dc52fe81fd18",
   "metadata": {},
   "source": [
    "## Follow poet style"
   ]
  },
  {
   "cell_type": "code",
   "execution_count": 10,
   "id": "e5927f54-ff0c-4415-9dde-39191efe8bd7",
   "metadata": {},
   "outputs": [],
   "source": [
    "def poet_style(word_list):\n",
    "    for i in range(0, (poem_length - 1), 15):\n",
    "    \n",
    "        lines = [\n",
    "        \" \".join(word_list[i:i+3]),\n",
    "        \" \".join(word_list[i+3:i+6]),\n",
    "        \" \".join(word_list[i+6:i+9]),\n",
    "        \" \".join(word_list[i+9:i+12]),\n",
    "        \" \".join(word_list[i+12:i+15])\n",
    "        ]\n",
    "\n",
    "        # Repeat the lines for emphasis\n",
    "        repeated_lines = lines * 2\n",
    "\n",
    "        # Print the poem\n",
    "        for line in repeated_lines:\n",
    "            print(line)\n",
    "\n"
   ]
  },
  {
   "cell_type": "code",
   "execution_count": 11,
   "id": "f1f6eefc-21bd-4332-8937-cd98ef0842aa",
   "metadata": {
    "scrolled": true
   },
   "outputs": [
    {
     "name": "stdout",
     "output_type": "stream",
     "text": [
      "ali you doo\n",
      "just change the\n",
      "church steps till\n",
      "it strong i\n",
      "ain t you\n",
      "ali you doo\n",
      "just change the\n",
      "church steps till\n",
      "it strong i\n",
      "ain t you\n",
      "would we can\n",
      "heal the trees\n",
      "by myself better\n",
      "come after setting\n",
      "sun he ll\n",
      "would we can\n",
      "heal the trees\n",
      "by myself better\n",
      "come after setting\n",
      "sun he ll\n",
      "never taught me\n",
      "down upon the\n",
      "fiends i let\n",
      "s joy the\n",
      "air it was\n",
      "never taught me\n",
      "down upon the\n",
      "fiends i let\n",
      "s joy the\n",
      "air it was\n",
      "never living as\n",
      "if this\n",
      "\n",
      "\n",
      "\n",
      "never living as\n",
      "if this\n",
      "\n",
      "\n",
      "\n"
     ]
    }
   ],
   "source": [
    "poet_style(poem)"
   ]
  },
  {
   "cell_type": "markdown",
   "id": "fb7400f1-7b62-4070-bc1d-c5d9256a89b6",
   "metadata": {
    "jp-MarkdownHeadingCollapsed": true
   },
   "source": [
    "# Bayesian network"
   ]
  },
  {
   "cell_type": "code",
   "execution_count": 12,
   "id": "195db3b4-dfbc-417a-bdee-402dabfe76f2",
   "metadata": {},
   "outputs": [],
   "source": [
    "def build_counts(all_poetry_text, number_of_words=2):\n",
    "    transitions = {}\n",
    "\n",
    "    for i in range(len(all_poetry_text) - number_of_words):\n",
    "        current_state = tuple(all_poetry_text[i:i + number_of_words])\n",
    "        next_state = all_poetry_text[i + number_of_words]\n",
    "\n",
    "        transitions[current_state] = transitions.get(current_state, {})\n",
    "        transitions[current_state][next_state] = transitions[current_state].get(next_state, 0) + 1\n",
    "\n",
    "    return transitions\n"
   ]
  },
  {
   "cell_type": "code",
   "execution_count": 13,
   "id": "71908216-1888-4798-a1c5-6b264def01d1",
   "metadata": {},
   "outputs": [],
   "source": [
    "def make_bayesian_network(transitions):\n",
    "    model = BayesianModel()\n",
    "    \n",
    "    for current_state, next_states in transitions.items():\n",
    "        for next_state, count in next_states.items():\n",
    "            model.add_edge(current_state, next_state, weight=count)\n",
    "    \n",
    "    return model"
   ]
  },
  {
   "cell_type": "code",
   "execution_count": 14,
   "id": "c0577cc4-045f-486b-ba8e-510c6d1ce25d",
   "metadata": {},
   "outputs": [],
   "source": [
    "def generate_poem(bayesian_network, limit, start):\n",
    "    n = 0\n",
    "    curr_state = start\n",
    "    poem = f\"{curr_state[0]} {curr_state[1]}\"\n",
    "\n",
    "    while n < limit:\n",
    "        next_state = random.choices(\n",
    "            list(bayesian_network.neighbors(curr_state)),\n",
    "            weights=[bayesian_network.get_edge_data(curr_state, neighbor)['weight'] for neighbor in bayesian_network.neighbors(curr_state)]\n",
    "        )[0]\n",
    "        poem += f\" {next_state}\"\n",
    "        curr_state = (curr_state[1], next_state)\n",
    "        n += 1\n",
    "\n",
    "    return poem"
   ]
  },
  {
   "cell_type": "code",
   "execution_count": 15,
   "id": "2f2067f9-06b0-46e2-b0ae-0c248644e1d2",
   "metadata": {},
   "outputs": [
    {
     "name": "stderr",
     "output_type": "stream",
     "text": [
      "WARNING:pgmpy:BayesianModel has been renamed to BayesianNetwork. Please use BayesianNetwork class, BayesianModel will be removed in future.\n"
     ]
    }
   ],
   "source": [
    "countss = build_counts(all_poetry_text)\n",
    "bayesian_network = make_bayesian_network(countss)"
   ]
  },
  {
   "cell_type": "code",
   "execution_count": 18,
   "id": "29a621e2-cc0f-4be5-8e1f-c87602d1b977",
   "metadata": {},
   "outputs": [
    {
     "name": "stdin",
     "output_type": "stream",
     "text": [
      "Enter the first two words for the poem:  i love \n",
      "Enter the length for the poem:  50\n"
     ]
    }
   ],
   "source": [
    "# User input\n",
    "start_word_input = input(\"Enter the first two words for the poem: \")\n",
    "start_words = start_word_input.split()[:2]  \n",
    "\n",
    "poem_length_input = input(\"Enter the length for the poem: \")\n",
    "poem_length = int(poem_length_input)\n"
   ]
  },
  {
   "cell_type": "code",
   "execution_count": 19,
   "id": "5d3f2b78-af18-4bab-b27c-d45c25c3969e",
   "metadata": {},
   "outputs": [],
   "source": [
    "generated_poem = generate_poem(bayesian_network, poem_length, tuple(start_words))\n"
   ]
  },
  {
   "cell_type": "code",
   "execution_count": 20,
   "id": "42c03ed4-14a6-4a5c-bcdf-3a1280a0bce9",
   "metadata": {},
   "outputs": [],
   "source": [
    "new_poem = re.findall(r'\\w+', generated_poem.lower())"
   ]
  },
  {
   "cell_type": "code",
   "execution_count": 21,
   "id": "0d6153c0-997c-44d9-bb36-1cf887c9fc37",
   "metadata": {},
   "outputs": [
    {
     "name": "stdout",
     "output_type": "stream",
     "text": [
      "i love you\n",
      "no one gives\n",
      "me everything i\n",
      "wanna say the\n",
      "weak or the\n",
      "i love you\n",
      "no one gives\n",
      "me everything i\n",
      "wanna say the\n",
      "weak or the\n",
      "marine that went\n",
      "to a plane\n",
      "so we could\n",
      "belong together artpop\n",
      "we could we\n",
      "marine that went\n",
      "to a plane\n",
      "so we could\n",
      "belong together artpop\n",
      "we could we\n",
      "could save a\n",
      "cent more for\n",
      "piguets boardin a\n",
      "jet big booty\n",
      "heifer gettin by\n",
      "could save a\n",
      "cent more for\n",
      "piguets boardin a\n",
      "jet big booty\n",
      "heifer gettin by\n",
      "it s more\n",
      "up there on\n",
      "my\n",
      "\n",
      "\n",
      "it s more\n",
      "up there on\n",
      "my\n",
      "\n",
      "\n"
     ]
    }
   ],
   "source": [
    "poet_style(new_poem)"
   ]
  },
  {
   "cell_type": "code",
   "execution_count": null,
   "id": "f1bc7f60-d0b1-449f-8179-08e58ed69b65",
   "metadata": {},
   "outputs": [],
   "source": []
  }
 ],
 "metadata": {
  "kernelspec": {
   "display_name": "Python 3 (ipykernel)",
   "language": "python",
   "name": "python3"
  },
  "language_info": {
   "codemirror_mode": {
    "name": "ipython",
    "version": 3
   },
   "file_extension": ".py",
   "mimetype": "text/x-python",
   "name": "python",
   "nbconvert_exporter": "python",
   "pygments_lexer": "ipython3",
   "version": "3.11.5"
  }
 },
 "nbformat": 4,
 "nbformat_minor": 5
}
